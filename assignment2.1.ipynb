{
  "nbformat": 4,
  "nbformat_minor": 0,
  "metadata": {
    "colab": {
      "provenance": []
    },
    "kernelspec": {
      "name": "python3",
      "display_name": "Python 3"
    },
    "language_info": {
      "name": "python"
    }
  },
  "cells": [
    {
      "cell_type": "markdown",
      "source": [
        ". Write a NumPy program to test whether none of the elements of a given array is zero."
      ],
      "metadata": {
        "id": "CI9_VH1juEWQ"
      }
    },
    {
      "cell_type": "code",
      "execution_count": 8,
      "metadata": {
        "colab": {
          "base_uri": "https://localhost:8080/"
        },
        "id": "PNdGwiOhtcx3",
        "outputId": "7eaab31f-6630-4f18-a9fd-1b494b367f50"
      },
      "outputs": [
        {
          "output_type": "stream",
          "name": "stdout",
          "text": [
            "original array: [0 2 3 4]\n",
            "Test if none of the elements of the said array is zero: False\n"
          ]
        }
      ],
      "source": [
        "import numpy as np\n",
        "x=np.array([0,2,3,4])\n",
        "print(f\"original array: {x}\")\n",
        "print(f\"Test if none of the elements of the said array is zero: {np.all(x)}\")"
      ]
    },
    {
      "cell_type": "markdown",
      "source": [
        ". Write a NumPy program to test whether any of the elements of a given array is non-zero."
      ],
      "metadata": {
        "id": "Td-wfBnEuC1h"
      }
    },
    {
      "cell_type": "code",
      "source": [
        "import numpy as np\n",
        "x=np.array([0,0,0,0])\n",
        "print(f\"original array: {x}\")\n",
        "print(f\"Test whether any of the elements of a given array is non-zero: {np.any(x)}\")"
      ],
      "metadata": {
        "colab": {
          "base_uri": "https://localhost:8080/"
        },
        "id": "A926Cqrbvikz",
        "outputId": "f3e51260-e913-4c0c-ac4d-df4973d099af"
      },
      "execution_count": 12,
      "outputs": [
        {
          "output_type": "stream",
          "name": "stdout",
          "text": [
            "original array: [0 0 0 0]\n",
            "Test whether any of the elements of a given array is non-zero: False\n"
          ]
        }
      ]
    },
    {
      "cell_type": "markdown",
      "source": [
        ". Write a NumPy program to create an element-wise comparison (equal, equal within a tolerance) of two\n",
        "given"
      ],
      "metadata": {
        "id": "gdWEnGUQwJFU"
      }
    },
    {
      "cell_type": "code",
      "source": [
        "import numpy as np\n",
        "x = np.array([72, 79, 85, 90, 150, -135, 120, -10, 60, 100])\n",
        "y = np.array([72, 79, 85, 90, 150, -135, 120, -10, 60, 100.000001])\n",
        "print(\"Comparison - equal:\")\n",
        "print(np.equal(x,y))\n",
        "print(f\"Comparison - equal within a tolerance:{np.allclose(x, y)}\")"
      ],
      "metadata": {
        "colab": {
          "base_uri": "https://localhost:8080/"
        },
        "id": "473N5ScjwO-Z",
        "outputId": "bb797eaf-07c2-46a2-d391-931600191ffd"
      },
      "execution_count": 16,
      "outputs": [
        {
          "output_type": "stream",
          "name": "stdout",
          "text": [
            "Comparison - equal:\n",
            "[ True  True  True  True  True  True  True  True  True False]\n",
            "Comparison - equal within a tolerance:True\n"
          ]
        }
      ]
    },
    {
      "cell_type": "markdown",
      "source": [
        "4. Write a NumPy program to create an array of 10 zeros,10 ones, 10 fives.\n"
      ],
      "metadata": {
        "id": "ZHiw61BmxgI0"
      }
    },
    {
      "cell_type": "code",
      "source": [
        "import numpy as np\n",
        "array=np.zeros(10)\n",
        "print(\"An array of 10 zeros:\",array)\n",
        "array=np.ones(10)\n",
        "print(\"An array of 10 ones:\",array)\n",
        "array=np.ones(10)*5\n",
        "print(\"An array of 10 fives:\",array)"
      ],
      "metadata": {
        "colab": {
          "base_uri": "https://localhost:8080/"
        },
        "id": "WjRIjTX5xmNj",
        "outputId": "42917595-728b-45cc-92b0-873ab136a06e"
      },
      "execution_count": 20,
      "outputs": [
        {
          "output_type": "stream",
          "name": "stdout",
          "text": [
            "An array of 10 zeros: [0. 0. 0. 0. 0. 0. 0. 0. 0. 0.]\n",
            "An array of 10 ones: [1. 1. 1. 1. 1. 1. 1. 1. 1. 1.]\n",
            "An array of 10 fives: [5. 5. 5. 5. 5. 5. 5. 5. 5. 5.]\n"
          ]
        }
      ]
    },
    {
      "cell_type": "markdown",
      "source": [
        "5. Write a NumPy program to create an array of the integers from 30 to70.\n"
      ],
      "metadata": {
        "id": "kiVJ89-1yRbO"
      }
    },
    {
      "cell_type": "code",
      "source": [
        "import numpy as np\n",
        "array=np.arange(30,70)\n",
        "print(array)"
      ],
      "metadata": {
        "colab": {
          "base_uri": "https://localhost:8080/"
        },
        "id": "mhcKmyISyVRT",
        "outputId": "3379cdd6-e4dc-4657-fcbc-747d8ab644f0"
      },
      "execution_count": 23,
      "outputs": [
        {
          "output_type": "stream",
          "name": "stdout",
          "text": [
            "[30 31 32 33 34 35 36 37 38 39 40 41 42 43 44 45 46 47 48 49 50 51 52 53\n",
            " 54 55 56 57 58 59 60 61 62 63 64 65 66 67 68 69]\n"
          ]
        }
      ]
    },
    {
      "cell_type": "markdown",
      "source": [
        "6. Write a NumPy program to create a 3x3 identity matrix\n"
      ],
      "metadata": {
        "id": "y_DvlSv9znAa"
      }
    },
    {
      "cell_type": "code",
      "source": [
        "import numpy as np\n",
        "array_2D = np.identity(3)\n",
        "print(array_2D)"
      ],
      "metadata": {
        "colab": {
          "base_uri": "https://localhost:8080/"
        },
        "id": "idVyfRFOzrWC",
        "outputId": "f935f051-0009-4314-fbca-d74b476192f3"
      },
      "execution_count": 27,
      "outputs": [
        {
          "output_type": "stream",
          "name": "stdout",
          "text": [
            "[[1. 0. 0.]\n",
            " [0. 1. 0.]\n",
            " [0. 0. 1.]]\n"
          ]
        }
      ]
    },
    {
      "cell_type": "markdown",
      "source": [
        "7. Write a NumPy program to generate a random number between 0 and 1"
      ],
      "metadata": {
        "id": "wmwxn0mOz9gm"
      }
    },
    {
      "cell_type": "code",
      "source": [
        "import numpy as np\n",
        "rand_num = np.random.normal(0, 1, 1)\n",
        "print(rand_num)"
      ],
      "metadata": {
        "colab": {
          "base_uri": "https://localhost:8080/"
        },
        "id": "kWZJ0I8X0A-8",
        "outputId": "39bd7e58-ef63-41f0-cc1f-62039db4f9f7"
      },
      "execution_count": 33,
      "outputs": [
        {
          "output_type": "stream",
          "name": "stdout",
          "text": [
            "[1.10250223]\n"
          ]
        }
      ]
    },
    {
      "cell_type": "markdown",
      "source": [
        ". Write a NumPy program to generate an array of 15 random numbers from a standard normal\n",
        "distribution"
      ],
      "metadata": {
        "id": "ZUBDJNqi0uCY"
      }
    },
    {
      "cell_type": "code",
      "source": [
        "import numpy as np\n",
        "rand_num = np.random.normal(0, 1, 15)\n",
        "print(rand_num)"
      ],
      "metadata": {
        "colab": {
          "base_uri": "https://localhost:8080/"
        },
        "id": "9LcVcC9604AC",
        "outputId": "6c25ac5a-c7a0-4bb5-adf7-345b6e7d1b01"
      },
      "execution_count": 34,
      "outputs": [
        {
          "output_type": "stream",
          "name": "stdout",
          "text": [
            "[ 1.10687445 -0.79245442  0.0218102   1.22639397 -0.5431627  -0.68546683\n",
            " -1.23952633  0.41667941 -0.88839126 -0.64267208  0.79062047 -0.30930241\n",
            "  1.29600836  0.10216688  0.6099069 ]\n"
          ]
        }
      ]
    },
    {
      "cell_type": "markdown",
      "source": [
        ". Write a NumPy program to create a vector with values ranging from 15 to 55 and print all values\n",
        "except the first and last.\n"
      ],
      "metadata": {
        "id": "_xULFawh1L7m"
      }
    },
    {
      "cell_type": "code",
      "source": [
        "import numpy as np\n",
        "array=np.arange(15,55)\n",
        "print(array[1:-1])"
      ],
      "metadata": {
        "colab": {
          "base_uri": "https://localhost:8080/"
        },
        "id": "Sn8pO6tb1iD0",
        "outputId": "4509b63e-8c37-4df9-9d7e-e2d96288dd0e"
      },
      "execution_count": 37,
      "outputs": [
        {
          "output_type": "stream",
          "name": "stdout",
          "text": [
            "[16 17 18 19 20 21 22 23 24 25 26 27 28 29 30 31 32 33 34 35 36 37 38 39\n",
            " 40 41 42 43 44 45 46 47 48 49 50 51 52 53]\n"
          ]
        }
      ]
    },
    {
      "cell_type": "markdown",
      "source": [
        "10. Write a NumPy program to create a vector of length 5 filled with arbitrary integers from 0 to 10\n"
      ],
      "metadata": {
        "id": "ZXasrk_s12cU"
      }
    },
    {
      "cell_type": "code",
      "source": [
        "import numpy as np\n",
        "x = np.random.randint(0, 11, 5)\n",
        "print(x)"
      ],
      "metadata": {
        "colab": {
          "base_uri": "https://localhost:8080/"
        },
        "id": "XbXjRAvV2ArU",
        "outputId": "f657a62a-bd33-45e0-c42d-da6f358a7c63"
      },
      "execution_count": 41,
      "outputs": [
        {
          "output_type": "stream",
          "name": "stdout",
          "text": [
            "[1 4 1 0 1]\n"
          ]
        }
      ]
    },
    {
      "cell_type": "markdown",
      "source": [
        "11. Write a NumPy program to create a 10x10 matrix, in which the elements on the borders will be equal\n",
        "to 1, and inside 0"
      ],
      "metadata": {
        "id": "fn7q3BWY2aJM"
      }
    },
    {
      "cell_type": "code",
      "source": [
        "import numpy as np\n",
        "x=np.ones((10,10))\n",
        "x[1:-1 ,1:-1]=0\n",
        "print(x)"
      ],
      "metadata": {
        "colab": {
          "base_uri": "https://localhost:8080/"
        },
        "id": "A8DU4F_c2dnG",
        "outputId": "a0170d38-9ef0-4543-951f-5d06ae05fed1"
      },
      "execution_count": 43,
      "outputs": [
        {
          "output_type": "stream",
          "name": "stdout",
          "text": [
            "[[1. 1. 1. 1. 1. 1. 1. 1. 1. 1.]\n",
            " [1. 0. 0. 0. 0. 0. 0. 0. 0. 1.]\n",
            " [1. 0. 0. 0. 0. 0. 0. 0. 0. 1.]\n",
            " [1. 0. 0. 0. 0. 0. 0. 0. 0. 1.]\n",
            " [1. 0. 0. 0. 0. 0. 0. 0. 0. 1.]\n",
            " [1. 0. 0. 0. 0. 0. 0. 0. 0. 1.]\n",
            " [1. 0. 0. 0. 0. 0. 0. 0. 0. 1.]\n",
            " [1. 0. 0. 0. 0. 0. 0. 0. 0. 1.]\n",
            " [1. 0. 0. 0. 0. 0. 0. 0. 0. 1.]\n",
            " [1. 1. 1. 1. 1. 1. 1. 1. 1. 1.]]\n"
          ]
        }
      ]
    },
    {
      "cell_type": "markdown",
      "source": [
        "12. Write a NumPy program to create a 5x5 zero matrix with elements on the main diagonal equal to 1, 2,\n",
        "3, 4, 5."
      ],
      "metadata": {
        "id": "Cf_fKI-F3DK_"
      }
    },
    {
      "cell_type": "code",
      "source": [
        "import numpy as np\n",
        "x = np.diag([1, 2, 3, 4, 5])\n",
        "print(x)"
      ],
      "metadata": {
        "colab": {
          "base_uri": "https://localhost:8080/"
        },
        "id": "ly9oQ2_V3Gkk",
        "outputId": "ba93c89a-c7d2-4b6e-9135-cec474fef286"
      },
      "execution_count": 44,
      "outputs": [
        {
          "output_type": "stream",
          "name": "stdout",
          "text": [
            "[[1 0 0 0 0]\n",
            " [0 2 0 0 0]\n",
            " [0 0 3 0 0]\n",
            " [0 0 0 4 0]\n",
            " [0 0 0 0 5]]\n"
          ]
        }
      ]
    },
    {
      "cell_type": "markdown",
      "source": [
        "13. Write a NumPy program to create a 4x4 matrix in which 0 and 1 are staggered, with zeros on the main\n",
        "diagonal.\n"
      ],
      "metadata": {
        "id": "D-OkWBtz5rwR"
      }
    },
    {
      "cell_type": "code",
      "source": [
        "import numpy as np\n",
        "x = np.zeros((4, 4))\n",
        "x[::2, 1::2] = 1\n",
        "x[1::2, ::2] = 1\n",
        "print(x)"
      ],
      "metadata": {
        "colab": {
          "base_uri": "https://localhost:8080/"
        },
        "id": "y2zLk6Hp5vtu",
        "outputId": "e04431af-a601-41a1-ce6d-c36465c6e09f"
      },
      "execution_count": 45,
      "outputs": [
        {
          "output_type": "stream",
          "name": "stdout",
          "text": [
            "[[0. 1. 0. 1.]\n",
            " [1. 0. 1. 0.]\n",
            " [0. 1. 0. 1.]\n",
            " [1. 0. 1. 0.]]\n"
          ]
        }
      ]
    },
    {
      "cell_type": "markdown",
      "source": [
        "14. Write a NumPy program to save two given arrays into a single file in compressed format (.npz format)\n",
        "and load it.\n"
      ],
      "metadata": {
        "id": "eIp1yfc16XYY"
      }
    },
    {
      "cell_type": "code",
      "source": [
        "import numpy as np\n",
        "import os\n",
        "x = np.arange(10)\n",
        "y = np.arange(11, 20)\n",
        "print(\"Original arrays:\")\n",
        "print(x)\n",
        "print(y)\n",
        "np.savez('temp_arra.npz', x=x, y=y)\n",
        "print(\"Load arrays from the 'temp_arra.npz' file:\")\n",
        "with np.load('temp_arra.npz') as data:\n",
        "    x2 = data['x']\n",
        "    y2 = data['y']\n",
        "    print(x2)\n",
        "    print(y2)\n"
      ],
      "metadata": {
        "colab": {
          "base_uri": "https://localhost:8080/"
        },
        "id": "c9BWxNkp6a9r",
        "outputId": "82883a85-3b80-4da5-e88f-2f12b35304ed"
      },
      "execution_count": 49,
      "outputs": [
        {
          "output_type": "stream",
          "name": "stdout",
          "text": [
            "Original arrays:\n",
            "[0 1 2 3 4 5 6 7 8 9]\n",
            "[11 12 13 14 15 16 17 18 19]\n",
            "Load arrays from the 'temp_arra.npz' file:\n",
            "[0 1 2 3 4 5 6 7 8 9]\n",
            "[11 12 13 14 15 16 17 18 19]\n"
          ]
        }
      ]
    },
    {
      "cell_type": "markdown",
      "source": [
        "15. Write a NumPy program to create a one-dimensional array of forty pseudo-randomly generated values.\n",
        "Select"
      ],
      "metadata": {
        "id": "oWpVflt07D3S"
      }
    },
    {
      "cell_type": "code",
      "source": [
        "import numpy as np\n",
        "np.random.seed(10)\n",
        "print(np.random.rand(40))"
      ],
      "metadata": {
        "colab": {
          "base_uri": "https://localhost:8080/"
        },
        "id": "fVQJ19r87LgB",
        "outputId": "97ef58d6-a422-4476-9b33-4e29323c98bb"
      },
      "execution_count": 51,
      "outputs": [
        {
          "output_type": "stream",
          "name": "stdout",
          "text": [
            "[0.77132064 0.02075195 0.63364823 0.74880388 0.49850701 0.22479665\n",
            " 0.19806286 0.76053071 0.16911084 0.08833981 0.68535982 0.95339335\n",
            " 0.00394827 0.51219226 0.81262096 0.61252607 0.72175532 0.29187607\n",
            " 0.91777412 0.71457578 0.54254437 0.14217005 0.37334076 0.67413362\n",
            " 0.44183317 0.43401399 0.61776698 0.51313824 0.65039718 0.60103895\n",
            " 0.8052232  0.52164715 0.90864888 0.31923609 0.09045935 0.30070006\n",
            " 0.11398436 0.82868133 0.04689632 0.62628715]\n"
          ]
        }
      ]
    },
    {
      "cell_type": "markdown",
      "source": [
        "16. Write a NumPy program to extract all numbers from a given array which are less and greater than a\n",
        "specified number."
      ],
      "metadata": {
        "id": "5W4i6CTA7ZVB"
      }
    },
    {
      "cell_type": "code",
      "source": [
        "import numpy as np\n",
        "nums = np.array([[5.54, 3.38, 7.99],\n",
        "              [3.54, 4.38, 6.99],\n",
        "              [1.54, 2.39, 9.29]])\n",
        "print(\"Original array:\")\n",
        "print(nums)\n",
        "n=5\n",
        "print(\"\\nElements of the said array greater than\", n)\n",
        "print(nums[nums > n])\n",
        "n = 6\n",
        "print(\"\\nElements of the said array less than\", n)\n",
        "print(nums[nums < n])"
      ],
      "metadata": {
        "colab": {
          "base_uri": "https://localhost:8080/"
        },
        "id": "bcYeLUJk7dGl",
        "outputId": "6baedb8a-13cf-4f89-bee6-6f6dcc6c3c07"
      },
      "execution_count": 52,
      "outputs": [
        {
          "output_type": "stream",
          "name": "stdout",
          "text": [
            "Original array:\n",
            "[[5.54 3.38 7.99]\n",
            " [3.54 4.38 6.99]\n",
            " [1.54 2.39 9.29]]\n",
            "\n",
            "Elements of the said array greater than 5\n",
            "[5.54 7.99 6.99 9.29]\n",
            "\n",
            "Elements of the said array less than 6\n",
            "[5.54 3.38 3.54 4.38 1.54 2.39]\n"
          ]
        }
      ]
    }
  ]
}